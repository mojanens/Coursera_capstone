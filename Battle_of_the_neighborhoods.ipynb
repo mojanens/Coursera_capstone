{
  "nbformat": 4,
  "nbformat_minor": 0,
  "metadata": {
    "colab": {
      "name": "Battle_of_the_neighborhoods.ipynb",
      "provenance": [],
      "collapsed_sections": [],
      "authorship_tag": "ABX9TyPkYl3SHeW7vUXh8LRkvBCb",
      "include_colab_link": true
    },
    "kernelspec": {
      "name": "python3",
      "display_name": "Python 3"
    },
    "language_info": {
      "name": "python"
    }
  },
  "cells": [
    {
      "cell_type": "markdown",
      "metadata": {
        "id": "view-in-github",
        "colab_type": "text"
      },
      "source": [
        "<a href=\"https://colab.research.google.com/github/mojanens/Coursera_capstone/blob/main/Battle_of_the_neighborhoods.ipynb\" target=\"_parent\"><img src=\"https://colab.research.google.com/assets/colab-badge.svg\" alt=\"Open In Colab\"/></a>"
      ]
    },
    {
      "cell_type": "code",
      "metadata": {
        "id": "NFp6gkauM5B9"
      },
      "source": [
        ""
      ],
      "execution_count": null,
      "outputs": []
    },
    {
      "cell_type": "markdown",
      "metadata": {
        "id": "i83r4CwMM9iY"
      },
      "source": [
        "**Business problem description:**\n",
        "\n",
        "My client wants to open a new yoga studio in Paris. The task is to find the best location for it: A neighborhood where there is least existing competition (few or no yoga studios at all), but potential demand for yoga studio (similar venues are trending in Foursquare than in those neigborhoods that yoga studios are also trending high)."
      ]
    },
    {
      "cell_type": "markdown",
      "metadata": {
        "id": "B87HpryFNTFb"
      },
      "source": [
        "**Data used to solve the problem:**\n",
        "\n",
        "The trendind venues and existing yoga studios are searched for from Foursquare Paris data. The city of Paris is divided into 20 arrondissements. However, many of the arrondissements are so large in area that in finding the potential location for a yoga studio it is more appropriate to analyse the Foursquare data on quarter level:https://en.wikipedia.org/wiki/Quarters_of_Paris. \n",
        "\n",
        "The coordinates of the quarters can be retrieved using Geocoder. We will look at the radius of 500 m from the reference coordinates of the quarter. 500 m can be considered a distance you can take in order to go to one's favourite yoga studio. As some of the quarters are small in area, the 500-m circles may in some cases overlap, meaning that same venues may be included in several quarters. This does not matter in our case, as the cluster of the nearby services is most important for the analysis. Also, there may be areas that are not covered by any of those circles. The model is not perfect, but will provide a starting point for searching a location for a new yoga studio."
      ]
    }
  ]
}